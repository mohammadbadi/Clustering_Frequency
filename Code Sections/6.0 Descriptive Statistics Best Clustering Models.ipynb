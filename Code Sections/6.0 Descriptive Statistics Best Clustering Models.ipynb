{
  "cells": [
    {
      "cell_type": "markdown",
      "metadata": {
        "id": "view-in-github",
        "colab_type": "text"
      },
      "source": [
        "<a href=\"https://colab.research.google.com/github/mohammadbadi/Clustering_Frequency/blob/main/Code%20Sections/6.0%20Descriptive%20Statistics%20Best%20Clustering%20Models.ipynb\" target=\"_parent\"><img src=\"https://colab.research.google.com/assets/colab-badge.svg\" alt=\"Open In Colab\"/></a>"
      ]
    },
    {
      "cell_type": "markdown",
      "id": "97db8278",
      "metadata": {
        "id": "97db8278",
        "papermill": {
          "duration": 0.00144,
          "end_time": "2025-03-18T06:00:14.195943",
          "exception": false,
          "start_time": "2025-03-18T06:00:14.194503",
          "status": "completed"
        },
        "tags": []
      },
      "source": [
        "### **6.0 Descriptive Statistics - Best Clustering Models**"
      ]
    },
    {
      "cell_type": "code",
      "execution_count": null,
      "id": "ac073ef5",
      "metadata": {
        "execution": {
          "iopub.execute_input": "2025-03-18T06:00:14.201081Z",
          "iopub.status.busy": "2025-03-18T06:00:14.200725Z",
          "iopub.status.idle": "2025-03-18T06:00:17.682214Z",
          "shell.execute_reply": "2025-03-18T06:00:17.681077Z"
        },
        "id": "ac073ef5",
        "outputId": "e6612ede-ebb2-4e09-e722-729ad0f94198",
        "papermill": {
          "duration": 3.486372,
          "end_time": "2025-03-18T06:00:17.684192",
          "exception": false,
          "start_time": "2025-03-18T06:00:14.197820",
          "status": "completed"
        },
        "tags": []
      },
      "outputs": [
        {
          "data": {
            "application/javascript": [
              "\n",
              "    async function download(id, filename, size) {\n",
              "      if (!google.colab.kernel.accessAllowed) {\n",
              "        return;\n",
              "      }\n",
              "      const div = document.createElement('div');\n",
              "      const label = document.createElement('label');\n",
              "      label.textContent = `Downloading \"${filename}\": `;\n",
              "      div.appendChild(label);\n",
              "      const progress = document.createElement('progress');\n",
              "      progress.max = size;\n",
              "      div.appendChild(progress);\n",
              "      document.body.appendChild(div);\n",
              "\n",
              "      const buffers = [];\n",
              "      let downloaded = 0;\n",
              "\n",
              "      const channel = await google.colab.kernel.comms.open(id);\n",
              "      // Send a message to notify the kernel that we're ready.\n",
              "      channel.send({})\n",
              "\n",
              "      for await (const message of channel.messages) {\n",
              "        // Send a message to notify the kernel that we're ready.\n",
              "        channel.send({})\n",
              "        if (message.buffers) {\n",
              "          for (const buffer of message.buffers) {\n",
              "            buffers.push(buffer);\n",
              "            downloaded += buffer.byteLength;\n",
              "            progress.value = downloaded;\n",
              "          }\n",
              "        }\n",
              "      }\n",
              "      const blob = new Blob(buffers, {type: 'application/binary'});\n",
              "      const a = document.createElement('a');\n",
              "      a.href = window.URL.createObjectURL(blob);\n",
              "      a.download = filename;\n",
              "      div.appendChild(a);\n",
              "      a.click();\n",
              "      div.remove();\n",
              "    }\n",
              "  "
            ],
            "text/plain": [
              "<IPython.core.display.Javascript object>"
            ]
          },
          "metadata": {},
          "output_type": "display_data"
        },
        {
          "data": {
            "application/javascript": [
              "download(\"download_f6e93f56-e3ab-4070-b2b4-c57d8d0bb4ad\", \"Best_Clusters_Summary_Results.html\", 0)"
            ],
            "text/plain": [
              "<IPython.core.display.Javascript object>"
            ]
          },
          "metadata": {},
          "output_type": "display_data"
        },
        {
          "data": {
            "text/html": [
              "\n",
              "<table style='border-collapse: collapse; width: 100%; font-size: 18px;'>\n",
              "  <thead style='background-color: #4CAF50; color: white;'>\n",
              "    <tr>\n",
              "      <th colspan=\"9\" style=\"text-align: center; font-size: 24px; background-color: #2f4f4f; color: white;\">\n",
              "        <strong>Clustering Summary Table</strong>\n",
              "      </th>\n",
              "    </tr>\n",
              "    <tr>\n",
              "      <th>Set</th>\n",
              "      <th>Features</th>\n",
              "      <th>KMeans Silhouette Score</th>\n",
              "      <th>Davies-Bouldin Index</th>\n",
              "      <th>Calinski-Harabasz Score</th>\n",
              "      <th>KMeans Prediction Accuracy (%)</th>\n",
              "      <th>DBSCAN Silhouette Score</th>\n",
              "      <th>Davies-Bouldin Index</th>\n",
              "      <th>DBSCAN Prediction Accuracy (%)</th>\n",
              "    </tr>\n",
              "  </thead>\n",
              "  <tbody>\n",
              "\n",
              "    <tr style='border: 1px solid #dddddd;'>\n",
              "      <td style='border: 1px solid #dddddd; padding: 8px;'>Set 4</td>\n",
              "      <td style='border: 1px solid #dddddd; padding: 8px;'>Hood_158_Encoded, Location_Engineered_Other, Location_Engineered_Public, Location_Engineered_Residential</td>\n",
              "      <td style='border: 1px solid #dddddd; padding: 8px;'>0.862</td>\n",
              "      <td style='border: 1px solid #dddddd; padding: 8px;'>0.387</td>\n",
              "      <td style='border: 1px solid #dddddd; padding: 8px;'>220520</td>\n",
              "      <td style='border: 1px solid #dddddd; padding: 8px;'><strong>86.25%</strong></td>\n",
              "      <td style='border: 1px solid #dddddd; padding: 8px;'>0.892</td>\n",
              "      <td style='border: 1px solid #dddddd; padding: 8px;'>0.115</td>\n",
              "      <td style='border: 1px solid #dddddd; padding: 8px;'><strong>89.19%</strong></td>\n",
              "    </tr>\n",
              "    \n",
              "    <tr style='border: 1px solid #dddddd;'>\n",
              "      <td style='border: 1px solid #dddddd; padding: 8px;'>Set 5</td>\n",
              "      <td style='border: 1px solid #dddddd; padding: 8px;'>Division_Encoded, Location_Engineered_Other, Location_Engineered_Public, Location_Engineered_Residential</td>\n",
              "      <td style='border: 1px solid #dddddd; padding: 8px;'>0.700</td>\n",
              "      <td style='border: 1px solid #dddddd; padding: 8px;'>0.408</td>\n",
              "      <td style='border: 1px solid #dddddd; padding: 8px;'>126299</td>\n",
              "      <td style='border: 1px solid #dddddd; padding: 8px;'><strong>70.01%</strong></td>\n",
              "      <td style='border: 1px solid #dddddd; padding: 8px;'>0.779</td>\n",
              "      <td style='border: 1px solid #dddddd; padding: 8px;'>0.340</td>\n",
              "      <td style='border: 1px solid #dddddd; padding: 8px;'><strong>77.94%</strong></td>\n",
              "    </tr>\n",
              "    \n",
              "    <tr style='border: 1px solid #dddddd;'>\n",
              "      <td style='border: 1px solid #dddddd; padding: 8px;'>Set 2</td>\n",
              "      <td style='border: 1px solid #dddddd; padding: 8px;'>OCC_HOUR, Location_Engineered_Other, Location_Engineered_Public, Location_Engineered_Residential</td>\n",
              "      <td style='border: 1px solid #dddddd; padding: 8px;'>0.640</td>\n",
              "      <td style='border: 1px solid #dddddd; padding: 8px;'>0.463</td>\n",
              "      <td style='border: 1px solid #dddddd; padding: 8px;'>90424</td>\n",
              "      <td style='border: 1px solid #dddddd; padding: 8px;'><strong>63.99%</strong></td>\n",
              "      <td style='border: 1px solid #dddddd; padding: 8px;'>0.664</td>\n",
              "      <td style='border: 1px solid #dddddd; padding: 8px;'>0.555</td>\n",
              "      <td style='border: 1px solid #dddddd; padding: 8px;'><strong>66.42%</strong></td>\n",
              "    </tr>\n",
              "    \n",
              "    <tr style='border: 1px solid #dddddd;'>\n",
              "      <td style='border: 1px solid #dddddd; padding: 8px;'>Set 1</td>\n",
              "      <td style='border: 1px solid #dddddd; padding: 8px;'>OCC_YEAR, Location_Engineered_Other, Location_Engineered_Public, Location_Engineered_Residential</td>\n",
              "      <td style='border: 1px solid #dddddd; padding: 8px;'>0.654</td>\n",
              "      <td style='border: 1px solid #dddddd; padding: 8px;'>0.539</td>\n",
              "      <td style='border: 1px solid #dddddd; padding: 8px;'>58296</td>\n",
              "      <td style='border: 1px solid #dddddd; padding: 8px;'><strong>65.37%</strong></td>\n",
              "      <td style='border: 1px solid #dddddd; padding: 8px;'>0.661</td>\n",
              "      <td style='border: 1px solid #dddddd; padding: 8px;'>0.518</td>\n",
              "      <td style='border: 1px solid #dddddd; padding: 8px;'><strong>66.05%</strong></td>\n",
              "    </tr>\n",
              "    \n",
              "    <tr style='border: 1px solid #dddddd;'>\n",
              "      <td style='border: 1px solid #dddddd; padding: 8px;'>Set 3</td>\n",
              "      <td style='border: 1px solid #dddddd; padding: 8px;'>OCC_DOW_Encoded, Location_Engineered_Other, Location_Engineered_Public, Location_Engineered_Residential</td>\n",
              "      <td style='border: 1px solid #dddddd; padding: 8px;'>0.645</td>\n",
              "      <td style='border: 1px solid #dddddd; padding: 8px;'>0.445</td>\n",
              "      <td style='border: 1px solid #dddddd; padding: 8px;'>103447</td>\n",
              "      <td style='border: 1px solid #dddddd; padding: 8px;'><strong>64.47%</strong></td>\n",
              "      <td style='border: 1px solid #dddddd; padding: 8px;'>0.650</td>\n",
              "      <td style='border: 1px solid #dddddd; padding: 8px;'>0.532</td>\n",
              "      <td style='border: 1px solid #dddddd; padding: 8px;'><strong>65.03%</strong></td>\n",
              "    </tr>\n",
              "    </tbody></table>"
            ],
            "text/plain": [
              "<IPython.core.display.HTML object>"
            ]
          },
          "metadata": {},
          "output_type": "display_data"
        },
        {
          "data": {
            "text/html": [
              "\n",
              "    <p style=\"color: darkblue; font-size: 18px; font-weight: bold;\">\n",
              "        Clustering Model summary results saved  as <span style=\"color: green;\">Best_Clusters_Summary_Results.html</span>.\n",
              "    </p>\n"
            ],
            "text/plain": [
              "<IPython.core.display.HTML object>"
            ]
          },
          "metadata": {},
          "output_type": "display_data"
        }
      ],
      "source": [
        "import pandas as pd\n",
        "import ast\n",
        "from IPython.display import display, HTML\n",
        "from google.colab import files\n",
        "\n",
        "# Load the dataset\n",
        "url = \"https://raw.githubusercontent.com/mohammadbadi/CrimeAnalytics_Clustering/refs/heads/main/Output_CSV/Best_Clustering_Results.csv\"\n",
        "url1 = \"https://raw.githubusercontent.com/mohammadbadi/CrimeAnalytics_Clustering/refs/heads/main/Output_CSV/Feature_Combo_Current_Results.csv\"\n",
        "clustering_results = pd.read_csv(url)\n",
        "\n",
        "# Load feature combinations\n",
        "feature_combos = pd.read_csv(url1)\n",
        "\n",
        "# Define the set names to match\n",
        "set_names = ['4_Set_165','4_Set_369', '4_Set_490', '4_Set_494', '4_Set_495']\n",
        "\n",
        "# Initialize an empty list to hold the feature sets\n",
        "feature_sets = []\n",
        "\n",
        "# Extract corresponding feature sets\n",
        "for set_name in set_names:\n",
        "    matched_features = feature_combos[feature_combos['Feature Set'] == set_name]['Feature_Names_String']\n",
        "    if not matched_features.empty:\n",
        "        features_list = ast.literal_eval(matched_features.values[0])  # Convert string to list\n",
        "        feature_sets.append(features_list)\n",
        "\n",
        "# Build a combined results list (one row per set)\n",
        "combined_results = []\n",
        "for i in range(1, 6):  # For each set (5 sets)\n",
        "    # KMeans metrics\n",
        "    silhouette_score_kmeans = clustering_results[f'KMeans{i}_Silhouette_Score'].iloc[0]\n",
        "    davies_bouldin_score_kmeans = clustering_results[f'KMeans{i}_Davies_Bouldin_Index'].iloc[0]\n",
        "    calinski_harabasz_score_kmeans = clustering_results[f'KMeans{i}_Calinski_Harabasz_Score'].iloc[0]\n",
        "    kmeans_accuracy = clustering_results[f'KMeans{i}_Prediction_Accuracy'].iloc[0]\n",
        "\n",
        "    # DBSCAN metrics\n",
        "    silhouette_score_dbscan = clustering_results[f'DBSCAN{i}_Silhouette_Score'].iloc[0]\n",
        "    davies_bouldin_score_dbscan = clustering_results[f'DBSCAN{i}_Davies_Bouldin_Index'].iloc[0]\n",
        "    dbscan_accuracy = clustering_results[f'DBSCAN{i}_Prediction_Accuracy'].iloc[0]\n",
        "\n",
        "    # Format the prediction accuracies (bold, 2 decimals)\n",
        "    kmeans_accuracy_str = f\"<strong>{kmeans_accuracy:.2f}%</strong>\"\n",
        "    dbscan_accuracy_str = f\"<strong>{dbscan_accuracy:.2f}%</strong>\"\n",
        "\n",
        "    # Create a combined record for this set\n",
        "    combined_results.append({\n",
        "         \"Set\": f\"Set {i}\",\n",
        "         \"Features\": ', '.join(feature_sets[i - 1]),\n",
        "         \"KMeans Silhouette Score\": f\"{silhouette_score_kmeans:.3f}\",\n",
        "         \"KMeans Davies-Bouldin Index\": f\"{davies_bouldin_score_kmeans:.3f}\",\n",
        "         \"KMeans Calinski-Harabasz Score\": f\"{calinski_harabasz_score_kmeans:.0f}\",\n",
        "         \"KMeans Prediction Accuracy\": kmeans_accuracy_str,\n",
        "         \"DBSCAN Silhouette Score\": f\"{silhouette_score_dbscan:.3f}\",\n",
        "         \"DBSCAN Davies-Bouldin Index\": f\"{davies_bouldin_score_dbscan:.3f}\",\n",
        "         \"DBSCAN Prediction Accuracy\": dbscan_accuracy_str,\n",
        "         \"DBSCAN Accuracy Float\": dbscan_accuracy  # for sorting purposes\n",
        "    })\n",
        "\n",
        "# Create a DataFrame from the combined results\n",
        "df_combined = pd.DataFrame(combined_results)\n",
        "\n",
        "# Sort the DataFrame by DBSCAN Accuracy (as a float) in descending order\n",
        "df_sorted = df_combined.sort_values(by=\"DBSCAN Accuracy Float\", ascending=False)\n",
        "\n",
        "# Build the HTML table using the sorted DataFrame\n",
        "html_table = \"\"\"\n",
        "<table style='border-collapse: collapse; width: 100%; font-size: 18px;'>\n",
        "  <thead style='background-color: #4CAF50; color: white;'>\n",
        "    <tr>\n",
        "      <th colspan=\"9\" style=\"text-align: center; font-size: 24px; background-color: #2f4f4f; color: white;\">\n",
        "        <strong>Clustering Summary Table</strong>\n",
        "      </th>\n",
        "    </tr>\n",
        "    <tr>\n",
        "      <th>Set</th>\n",
        "      <th>Features</th>\n",
        "      <th>KMeans Silhouette Score</th>\n",
        "      <th>Davies-Bouldin Index</th>\n",
        "      <th>Calinski-Harabasz Score</th>\n",
        "      <th>KMeans Prediction Accuracy (%)</th>\n",
        "      <th>DBSCAN Silhouette Score</th>\n",
        "      <th>Davies-Bouldin Index</th>\n",
        "      <th>DBSCAN Prediction Accuracy (%)</th>\n",
        "    </tr>\n",
        "  </thead>\n",
        "  <tbody>\n",
        "\"\"\"\n",
        "\n",
        "# Loop through the sorted rows to build the table rows\n",
        "for idx, row in df_sorted.iterrows():\n",
        "    html_table += f\"\"\"\n",
        "    <tr style='border: 1px solid #dddddd;'>\n",
        "      <td style='border: 1px solid #dddddd; padding: 8px;'>{row['Set']}</td>\n",
        "      <td style='border: 1px solid #dddddd; padding: 8px;'>{row['Features']}</td>\n",
        "      <td style='border: 1px solid #dddddd; padding: 8px;'>{row['KMeans Silhouette Score']}</td>\n",
        "      <td style='border: 1px solid #dddddd; padding: 8px;'>{row['KMeans Davies-Bouldin Index']}</td>\n",
        "      <td style='border: 1px solid #dddddd; padding: 8px;'>{row['KMeans Calinski-Harabasz Score']}</td>\n",
        "      <td style='border: 1px solid #dddddd; padding: 8px;'>{row['KMeans Prediction Accuracy']}</td>\n",
        "      <td style='border: 1px solid #dddddd; padding: 8px;'>{row['DBSCAN Silhouette Score']}</td>\n",
        "      <td style='border: 1px solid #dddddd; padding: 8px;'>{row['DBSCAN Davies-Bouldin Index']}</td>\n",
        "      <td style='border: 1px solid #dddddd; padding: 8px;'>{row['DBSCAN Prediction Accuracy']}</td>\n",
        "    </tr>\n",
        "    \"\"\"\n",
        "html_table += \"</tbody></table>\"\n",
        "\n",
        "# Save the HTML table to a file\n",
        "with open(\"Best_Clusters_Summary_Results.html\", \"w\") as f:\n",
        "    f.write(html_table)\n",
        "    files.download(\"Best_Clusters_Summary_Results.html\")\n",
        "\n",
        "# Display the HTML table in Google Colab\n",
        "display(HTML(html_table))\n",
        "\n",
        "# Display formatted message for saved file\n",
        "display(HTML(\"\"\"\n",
        "    <p style=\"color: darkblue; font-size: 18px; font-weight: bold;\">\n",
        "        Clustering Model summary results saved  as <span style=\"color: green;\">Best_Clusters_Summary_Results.html</span>.\n",
        "    </p>\n",
        "\"\"\"))\n"
      ]
    }
  ],
  "metadata": {
    "colab": {
      "provenance": [],
      "authorship_tag": "ABX9TyPfynsVn9ok2mcHIz55lyof",
      "include_colab_link": true
    },
    "kaggle": {
      "accelerator": "none",
      "dataSources": [
        {
          "datasetId": 6888578,
          "sourceId": 11056653,
          "sourceType": "datasetVersion"
        }
      ],
      "isGpuEnabled": false,
      "isInternetEnabled": true,
      "language": "python",
      "sourceType": "notebook"
    },
    "kernelspec": {
      "display_name": "Python 3",
      "name": "python3"
    },
    "language_info": {
      "codemirror_mode": {
        "name": "ipython",
        "version": 3
      },
      "file_extension": ".py",
      "mimetype": "text/x-python",
      "name": "python",
      "nbconvert_exporter": "python",
      "pygments_lexer": "ipython3",
      "version": "3.10.12"
    },
    "papermill": {
      "default_parameters": {},
      "duration": 7.781454,
      "end_time": "2025-03-18T06:00:18.309074",
      "environment_variables": {},
      "exception": null,
      "input_path": "__notebook__.ipynb",
      "output_path": "__notebook__.ipynb",
      "parameters": {},
      "start_time": "2025-03-18T06:00:10.527620",
      "version": "2.6.0"
    }
  },
  "nbformat": 4,
  "nbformat_minor": 5
}