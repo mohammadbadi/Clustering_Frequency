{
  "cells": [
    {
      "cell_type": "markdown",
      "metadata": {
        "id": "view-in-github",
        "colab_type": "text"
      },
      "source": [
        "<a href=\"https://colab.research.google.com/github/mohammadbadi/CrimeAnalytics_Clustering/blob/main/Code%20Sections/5.0%20Loading%20Libraries%20and%20Dataset.ipynb\" target=\"_parent\"><img src=\"https://colab.research.google.com/assets/colab-badge.svg\" alt=\"Open In Colab\"/></a>"
      ]
    },
    {
      "cell_type": "markdown",
      "id": "3b6fe214",
      "metadata": {
        "id": "3b6fe214",
        "papermill": {
          "duration": 0.001814,
          "end_time": "2025-03-17T09:43:41.873362",
          "exception": false,
          "start_time": "2025-03-17T09:43:41.871548",
          "status": "completed"
        },
        "tags": []
      },
      "source": [
        "\n",
        "### **5.0 Loading Libraries and Major Crime Indicator Dataset from TPS**"
      ]
    },
    {
      "cell_type": "code",
      "execution_count": null,
      "id": "765716df",
      "metadata": {
        "execution": {
          "iopub.execute_input": "2025-03-17T09:43:41.879094Z",
          "iopub.status.busy": "2025-03-17T09:43:41.878616Z",
          "iopub.status.idle": "2025-03-17T09:44:09.183296Z",
          "shell.execute_reply": "2025-03-17T09:44:09.182051Z"
        },
        "id": "765716df",
        "outputId": "44bb9c0f-6550-4936-9bf8-35b3a33cc95d",
        "papermill": {
          "duration": 27.310104,
          "end_time": "2025-03-17T09:44:09.185385",
          "exception": false,
          "start_time": "2025-03-17T09:43:41.875281",
          "status": "completed"
        },
        "tags": [],
        "colab": {
          "base_uri": "https://localhost:8080/",
          "height": 356
        }
      },
      "outputs": [
        {
          "output_type": "display_data",
          "data": {
            "text/plain": [
              "<IPython.core.display.HTML object>"
            ],
            "text/html": [
              "\n",
              "<div style=\"font-size: 18px; color: #333; font-weight: bold; padding: 10px;\">\n",
              "    Dataset <span style='color: blue;'>major-crime-indicators.csv</span> by <span style='color: slategray;'>Mohammad Badi</span> from Kaggle website is <span style='color: green;'>Successfully</span> loaded!\n",
              "</div>\n"
            ]
          },
          "metadata": {}
        },
        {
          "output_type": "display_data",
          "data": {
            "text/plain": [
              "<IPython.core.display.HTML object>"
            ],
            "text/html": [
              "\n",
              "<div style=\"font-size: 18px; color: #333; font-weight: bold; padding: 10px;\">\n",
              "    Dataset saved in <span style='color: blue;'>current workspace</span> <span style='color: green;'>Successfully!</span>\n",
              "</div>\n"
            ]
          },
          "metadata": {}
        },
        {
          "output_type": "display_data",
          "data": {
            "text/plain": [
              "<IPython.core.display.HTML object>"
            ],
            "text/html": [
              "\n",
              "<div style=\"font-size: 18px; color: #333; font-weight: bold; padding: 10px;\">\n",
              "    Data saved as CSV: <span style='color: blue;'>Checking_Load_Time.csv</span>\n",
              "</div>\n"
            ]
          },
          "metadata": {}
        },
        {
          "output_type": "display_data",
          "data": {
            "text/plain": [
              "<IPython.core.display.HTML object>"
            ],
            "text/html": [
              "\n",
              "<div style=\"font-size: 18px; color: #333; font-weight: bold; padding: 10px;\">\n",
              "    Data saved as Excel: <span style='color: blue;'>Checking_Load_Time.xlsx</span>\n",
              "</div>\n"
            ]
          },
          "metadata": {}
        },
        {
          "output_type": "display_data",
          "data": {
            "text/plain": [
              "<IPython.core.display.HTML object>"
            ],
            "text/html": [
              "\n",
              "<div style=\"font-size: 18px; color: #333; font-weight: bold; padding: 10px;\">\n",
              "    Time taken to read <span style='color: blue;'>Checking_Load_Time CSV file</span>: <span style='color: green;'>3.35 seconds</span>\n",
              "</div>\n"
            ]
          },
          "metadata": {}
        },
        {
          "output_type": "display_data",
          "data": {
            "text/plain": [
              "<IPython.core.display.HTML object>"
            ],
            "text/html": [
              "\n",
              "<div style=\"font-size: 18px; color: #333; font-weight: bold; padding: 10px;\">\n",
              "    Time taken to read <span style='color: blue;'>Checking_Load_Time Excel file</span>: <span style='color: red;'>241.39 seconds</span>\n",
              "</div>\n"
            ]
          },
          "metadata": {}
        },
        {
          "output_type": "display_data",
          "data": {
            "text/plain": [
              "<IPython.core.display.HTML object>"
            ],
            "text/html": [
              "\n",
              "<div style=\"font-size: 18px; color: #333; font-weight: bold; padding: 10px;\">\n",
              "    Recommendation: Load the data from <span style='color: green;'>CSV</span> as it is approximately <span style='color: green;'>72.15 times faster</span> than loading from Excel.\n",
              "</div>\n"
            ]
          },
          "metadata": {}
        },
        {
          "output_type": "display_data",
          "data": {
            "text/plain": [
              "<IPython.core.display.HTML object>"
            ],
            "text/html": [
              "\n",
              "<div style=\"font-size: 18px; color: #333; font-weight: bold; padding: 10px;\">\n",
              "    Dataset has been analyzed, and recommendation has been provided!\n",
              "</div>\n"
            ]
          },
          "metadata": {}
        }
      ],
      "source": [
        "                                                                                  # Import necessary libraries\n",
        "import itertools\n",
        "import os\n",
        "import pandas as pd\n",
        "import time\n",
        "import kagglehub\n",
        "import warnings\n",
        "from IPython.display import display, HTML\n",
        "from kagglehub import KaggleDatasetAdapter\n",
        "from google.colab import files\n",
        "\n",
        "os.system('pip install openpyxl -qqq')                                            # Install openpyxl for Excel support\n",
        "os.system('pip install tabulate -qqq')                                            # Install tabulate for cleaner table output\n",
        "\n",
        "warnings.filterwarnings(\"ignore\", category=DeprecationWarning)                    # Ignore Deprecation Warnings\n",
        "warnings.filterwarnings(\"ignore\", category=FutureWarning)                         # Ignore future warnings\n",
        "\n",
        "file_path = \"major-crime-indicators.csv\"                                          # Set the file path to the filename with extension\n",
        "\n",
        "crime_df = kagglehub.load_dataset(                                                # Load the latest version of the dataset from Kaggle\n",
        "    kagglehub.KaggleDatasetAdapter.PANDAS,\n",
        "    \"mohammadbadi/crimes-in-toronto\",                                             # Updated dataset handle\n",
        "    file_path,\n",
        ")\n",
        "\n",
        "def format_message(message):                                                      # Function to format HTML messages\n",
        "    return f\"\"\"\n",
        "<div style=\"font-size: 18px; color: #333; font-weight: bold; padding: 10px;\">\n",
        "    {message}\n",
        "</div>\n",
        "\"\"\"\n",
        "\n",
        "load_message = format_message(                                                    # Display HTML formatted message confirming that the dataset is loaded\n",
        "    \"Dataset <span style='color: blue;'>major-crime-indicators.csv</span> by <span style='color: slategray;'>Mohammad Badi</span> from Kaggle website is <span style='color: green;'>Successfully</span> loaded!\"\n",
        ")\n",
        "display(HTML(load_message))\n",
        "\n",
        "crime_df.to_csv(\"major-crime-indicators.csv\", index=False)                        # Save the loaded dataset as a CSV file\n",
        "\n",
        "save_message = format_message(                                                    # Display HTML formatted message confirming that the dataset is saved\n",
        "    \"Dataset saved in <span style='color: blue;'>current workspace</span> <span style='color: green;'>Successfully!</span>\"\n",
        ")\n",
        "display(HTML(save_message))\n",
        "\n",
        "major_crime_df = crime_df                                                         # Reusing the dataframe loaded earlier\n",
        "def save_data(data_df, filename_base):\n",
        "    csv_filename = f\"{filename_base}.csv\"                                         # Save as CSV\n",
        "    data_df.to_csv(csv_filename, index=False)\n",
        "    csv_msg = format_message(f\"Data saved as CSV: <span style='color: blue;'>{csv_filename}</span>\")\n",
        "    display(HTML(csv_msg))\n",
        "    excel_filename = f\"{filename_base}.xlsx\"                                      # Save as Excel\n",
        "    data_df.to_excel(excel_filename, index=False, engine='openpyxl')\n",
        "    excel_msg = format_message(f\"Data saved as Excel: <span style='color: blue;'>{excel_filename}</span>\")\n",
        "    display(HTML(excel_msg))\n",
        "\n",
        "save_data(major_crime_df, \"Checking_Load_Time\")                                   # Save the dataset as both CSV and Excel with name 'Checking_Load_Time'\n",
        "\n",
        "def measure_read_time(file_path, file_type):                                      # Function to measure file reading time\n",
        "    start_time = time.time()\n",
        "    if file_type == \"csv\":\n",
        "        pd.read_csv(file_path)\n",
        "    elif file_type == \"excel\":\n",
        "        pd.read_excel(file_path)\n",
        "    end_time = time.time()\n",
        "    return end_time - start_time\n",
        "\n",
        "csv_time = measure_read_time('Checking_Load_Time.csv', \"csv\")                     # Measure read times\n",
        "excel_time = measure_read_time('Checking_Load_Time.xlsx', \"excel\")\n",
        "\n",
        "csv_time_color = \"green\" if csv_time < excel_time else \"red\"                      # Determine color coding for time messages\n",
        "excel_time_color = \"green\" if excel_time < csv_time else \"red\"\n",
        "\n",
        "csv_time_message = format_message(                                                # Display HTML formatted time messages\n",
        "    f\"Time taken to read <span style='color: blue;'>Checking_Load_Time CSV file</span>: <span style='color: {csv_time_color};'>{csv_time:.2f} seconds</span>\"\n",
        ")\n",
        "\n",
        "excel_time_message = format_message(\n",
        "    f\"Time taken to read <span style='color: blue;'>Checking_Load_Time Excel file</span>: <span style='color: {excel_time_color};'>{excel_time:.2f} seconds</span>\"\n",
        ")\n",
        "\n",
        "display(HTML(csv_time_message))                                                   # Display the time messages\n",
        "display(HTML(excel_time_message))\n",
        "\n",
        "if csv_time < excel_time:                                                         # Determine the recommendation based on time\n",
        "    speed_factor = excel_time / csv_time\n",
        "    recommendation = (\n",
        "        f\"Recommendation: Load the data from <span style='color: green;'>CSV</span> as it is approximately \"\n",
        "        f\"<span style='color: green;'>{speed_factor:.2f} times faster</span> than loading from Excel.\"\n",
        "    )\n",
        "else:\n",
        "    speed_factor = csv_time / excel_time\n",
        "    recommendation = (\n",
        "        f\"Recommendation: Load the data from <span style='color: green;'>Excel</span> as it is approximately \"\n",
        "        f\"<span style='color: green;'>{speed_factor:.2f} times faster</span> than loading from CSV.\"\n",
        "    )\n",
        "\n",
        "recommendation_message = format_message(recommendation)\n",
        "display(HTML(recommendation_message))\n",
        "\n",
        "completion_message = format_message(\"Dataset has been analyzed, and recommendation has been provided!\")\n",
        "display(HTML(completion_message))\n"
      ]
    }
  ],
  "metadata": {
    "colab": {
      "provenance": [],
      "include_colab_link": true
    },
    "kaggle": {
      "accelerator": "none",
      "dataSources": [
        {
          "datasetId": 6888578,
          "sourceId": 11056653,
          "sourceType": "datasetVersion"
        }
      ],
      "isGpuEnabled": false,
      "isInternetEnabled": true,
      "language": "python",
      "sourceType": "notebook"
    },
    "kernelspec": {
      "display_name": "Python 3",
      "name": "python3"
    },
    "language_info": {
      "codemirror_mode": {
        "name": "ipython",
        "version": 3
      },
      "file_extension": ".py",
      "mimetype": "text/x-python",
      "name": "python",
      "nbconvert_exporter": "python",
      "pygments_lexer": "ipython3",
      "version": "3.10.12"
    },
    "papermill": {
      "default_parameters": {},
      "duration": 31.616676,
      "end_time": "2025-03-17T09:44:10.110823",
      "environment_variables": {},
      "exception": null,
      "input_path": "__notebook__.ipynb",
      "output_path": "__notebook__.ipynb",
      "parameters": {},
      "start_time": "2025-03-17T09:43:38.494147",
      "version": "2.6.0"
    }
  },
  "nbformat": 4,
  "nbformat_minor": 5
}